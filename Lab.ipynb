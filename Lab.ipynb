{
 "cells": [
  {
   "cell_type": "code",
   "execution_count": 183,
   "id": "25e22aef-a09a-414b-af07-e011763c07bb",
   "metadata": {},
   "outputs": [
    {
     "name": "stdout",
     "output_type": "stream",
     "text": [
      "Requirement already satisfied: psycopg2-binary in c:\\ahmed\\ing-2\\s2\\data engeneering\\newsql\\.venv\\lib\\site-packages (2.9.10)\n",
      "Requirement already satisfied: sqlalchemy in c:\\ahmed\\ing-2\\s2\\data engeneering\\newsql\\.venv\\lib\\site-packages (2.0.38)\n",
      "Requirement already satisfied: pandas in c:\\ahmed\\ing-2\\s2\\data engeneering\\newsql\\.venv\\lib\\site-packages (2.2.3)\n",
      "Requirement already satisfied: greenlet!=0.4.17 in c:\\ahmed\\ing-2\\s2\\data engeneering\\newsql\\.venv\\lib\\site-packages (from sqlalchemy) (3.1.1)\n",
      "Requirement already satisfied: typing-extensions>=4.6.0 in c:\\ahmed\\ing-2\\s2\\data engeneering\\newsql\\.venv\\lib\\site-packages (from sqlalchemy) (4.12.2)\n",
      "Requirement already satisfied: numpy>=1.23.2 in c:\\ahmed\\ing-2\\s2\\data engeneering\\newsql\\.venv\\lib\\site-packages (from pandas) (2.2.3)\n",
      "Requirement already satisfied: python-dateutil>=2.8.2 in c:\\ahmed\\ing-2\\s2\\data engeneering\\newsql\\.venv\\lib\\site-packages (from pandas) (2.9.0.post0)\n",
      "Requirement already satisfied: pytz>=2020.1 in c:\\ahmed\\ing-2\\s2\\data engeneering\\newsql\\.venv\\lib\\site-packages (from pandas) (2025.1)\n",
      "Requirement already satisfied: tzdata>=2022.7 in c:\\ahmed\\ing-2\\s2\\data engeneering\\newsql\\.venv\\lib\\site-packages (from pandas) (2025.1)\n",
      "Requirement already satisfied: six>=1.5 in c:\\ahmed\\ing-2\\s2\\data engeneering\\newsql\\.venv\\lib\\site-packages (from python-dateutil>=2.8.2->pandas) (1.17.0)\n"
     ]
    }
   ],
   "source": [
    "!pip install psycopg2-binary sqlalchemy pandas"
   ]
  },
  {
   "cell_type": "code",
   "execution_count": 1,
   "id": "3c05507c-f655-4042-8f4e-afc4a81cc2b4",
   "metadata": {},
   "outputs": [
    {
     "name": "stdout",
     "output_type": "stream",
     "text": [
      "Connected to CockroachDB successfully!\n"
     ]
    }
   ],
   "source": [
    "import psycopg2\n",
    "import pandas as pd\n",
    "\n",
    "# Database connection parameters\n",
    "host = \"localhost\"  # Use \"host.docker.internal\" if running Jupyter from another container\n",
    "port = \"26257\"      # CockroachDB default port\n",
    "dbname = \"defaultdb\"  # Replace with your database name\n",
    "user = \"admin\"  # Replace with your user\n",
    "password = \"admin\"  # Replace with your password\n",
    "sslmode = \"disable\"  # Set to \"require\" if SSL is enabled\n",
    "\n",
    "# Connect to the database\n",
    "try:\n",
    "    conn = psycopg2.connect(\n",
    "        dbname=dbname,\n",
    "        user=user,\n",
    "        password=password,\n",
    "        host=host,\n",
    "        port=port,\n",
    "        sslmode=sslmode\n",
    "    )\n",
    "    print(\"Connected to CockroachDB successfully!\")\n",
    "except Exception as e:\n",
    "    print(f\"Connection error: {e}\")\n",
    "\n",
    "# Create a cursor to execute queries\n",
    "cur = conn.cursor()"
   ]
  },
  {
   "cell_type": "code",
   "execution_count": 332,
   "id": "c5d3861d-2dc5-4346-92df-13b0235cd251",
   "metadata": {},
   "outputs": [
    {
     "name": "stdout",
     "output_type": "stream",
     "text": [
      "Table created successfully!\n"
     ]
    }
   ],
   "source": [
    "cur.execute(\"\"\"\n",
    "CREATE TABLE IF NOT EXISTS users (\n",
    "    id SERIAL PRIMARY KEY,\n",
    "    name STRING,\n",
    "    age INT\n",
    "    )\n",
    "\"\"\")\n",
    "conn.commit()\n",
    "print(\"Table created successfully!\")"
   ]
  },
  {
   "cell_type": "code",
   "execution_count": 333,
   "id": "9cca6aa6-e8c7-46b3-85a1-95de685a5114",
   "metadata": {},
   "outputs": [
    {
     "name": "stdout",
     "output_type": "stream",
     "text": [
      "Data inserted successfully!\n"
     ]
    }
   ],
   "source": [
    "cur.execute(\"INSERT INTO users (name, age) VALUES (%s, %s)\", (\"Alice\", 30))\n",
    "conn.commit()\n",
    "print(\"Data inserted successfully!\")"
   ]
  },
  {
   "cell_type": "code",
   "execution_count": 334,
   "id": "f90672b2",
   "metadata": {},
   "outputs": [
    {
     "data": {
      "text/html": [
       "<div>\n",
       "<style scoped>\n",
       "    .dataframe tbody tr th:only-of-type {\n",
       "        vertical-align: middle;\n",
       "    }\n",
       "\n",
       "    .dataframe tbody tr th {\n",
       "        vertical-align: top;\n",
       "    }\n",
       "\n",
       "    .dataframe thead th {\n",
       "        text-align: right;\n",
       "    }\n",
       "</style>\n",
       "<table border=\"1\" class=\"dataframe\">\n",
       "  <thead>\n",
       "    <tr style=\"text-align: right;\">\n",
       "      <th></th>\n",
       "      <th>id</th>\n",
       "      <th>name</th>\n",
       "      <th>age</th>\n",
       "    </tr>\n",
       "  </thead>\n",
       "  <tbody>\n",
       "    <tr>\n",
       "      <th>0</th>\n",
       "      <td>1053191606694117377</td>\n",
       "      <td>Alice</td>\n",
       "      <td>30</td>\n",
       "    </tr>\n",
       "  </tbody>\n",
       "</table>\n",
       "</div>"
      ],
      "text/plain": [
       "                    id   name  age\n",
       "0  1053191606694117377  Alice   30"
      ]
     },
     "execution_count": 334,
     "metadata": {},
     "output_type": "execute_result"
    }
   ],
   "source": [
    "cur.execute(\"SELECT * FROM users\")\n",
    "rows = cur.fetchall()\n",
    "df = pd.DataFrame(rows, columns=[\"id\", \"name\", \"age\"])\n",
    "df\n"
   ]
  },
  {
   "cell_type": "code",
   "execution_count": 335,
   "id": "e8ac8cf8",
   "metadata": {},
   "outputs": [
    {
     "name": "stdout",
     "output_type": "stream",
     "text": [
      "Alice's age updated successfully!\n"
     ]
    }
   ],
   "source": [
    "cur.execute(\"UPDATE users SET age = %s WHERE name = %s\", (35, \"Alice\"))\n",
    "conn.commit()\n",
    "print(\"Alice's age updated successfully!\")\n"
   ]
  },
  {
   "cell_type": "code",
   "execution_count": 336,
   "id": "677605a4",
   "metadata": {},
   "outputs": [
    {
     "data": {
      "text/html": [
       "<div>\n",
       "<style scoped>\n",
       "    .dataframe tbody tr th:only-of-type {\n",
       "        vertical-align: middle;\n",
       "    }\n",
       "\n",
       "    .dataframe tbody tr th {\n",
       "        vertical-align: top;\n",
       "    }\n",
       "\n",
       "    .dataframe thead th {\n",
       "        text-align: right;\n",
       "    }\n",
       "</style>\n",
       "<table border=\"1\" class=\"dataframe\">\n",
       "  <thead>\n",
       "    <tr style=\"text-align: right;\">\n",
       "      <th></th>\n",
       "      <th>id</th>\n",
       "      <th>name</th>\n",
       "      <th>age</th>\n",
       "    </tr>\n",
       "  </thead>\n",
       "  <tbody>\n",
       "    <tr>\n",
       "      <th>0</th>\n",
       "      <td>1053191606694117377</td>\n",
       "      <td>Alice</td>\n",
       "      <td>35</td>\n",
       "    </tr>\n",
       "  </tbody>\n",
       "</table>\n",
       "</div>"
      ],
      "text/plain": [
       "                    id   name  age\n",
       "0  1053191606694117377  Alice   35"
      ]
     },
     "execution_count": 336,
     "metadata": {},
     "output_type": "execute_result"
    }
   ],
   "source": [
    "cur.execute(\"SELECT * FROM users\")\n",
    "rows = cur.fetchall()\n",
    "df = pd.DataFrame(rows, columns=[\"id\", \"name\", \"age\"])\n",
    "df"
   ]
  },
  {
   "cell_type": "code",
   "execution_count": 337,
   "id": "365b4a25",
   "metadata": {},
   "outputs": [
    {
     "name": "stdout",
     "output_type": "stream",
     "text": [
      "Region column added!\n"
     ]
    }
   ],
   "source": [
    "cur.execute(\"ALTER TABLE users ADD COLUMN region STRING DEFAULT 'us-east'\")\n",
    "conn.commit()\n",
    "print(\"Region column added!\")"
   ]
  },
  {
   "cell_type": "code",
   "execution_count": 338,
   "id": "d05126b8",
   "metadata": {},
   "outputs": [
    {
     "data": {
      "text/html": [
       "<div>\n",
       "<style scoped>\n",
       "    .dataframe tbody tr th:only-of-type {\n",
       "        vertical-align: middle;\n",
       "    }\n",
       "\n",
       "    .dataframe tbody tr th {\n",
       "        vertical-align: top;\n",
       "    }\n",
       "\n",
       "    .dataframe thead th {\n",
       "        text-align: right;\n",
       "    }\n",
       "</style>\n",
       "<table border=\"1\" class=\"dataframe\">\n",
       "  <thead>\n",
       "    <tr style=\"text-align: right;\">\n",
       "      <th></th>\n",
       "      <th>0</th>\n",
       "      <th>1</th>\n",
       "      <th>2</th>\n",
       "      <th>3</th>\n",
       "    </tr>\n",
       "  </thead>\n",
       "  <tbody>\n",
       "    <tr>\n",
       "      <th>0</th>\n",
       "      <td>1053191606694117377</td>\n",
       "      <td>Alice</td>\n",
       "      <td>35</td>\n",
       "      <td>us-east</td>\n",
       "    </tr>\n",
       "  </tbody>\n",
       "</table>\n",
       "</div>"
      ],
      "text/plain": [
       "                     0      1   2        3\n",
       "0  1053191606694117377  Alice  35  us-east"
      ]
     },
     "execution_count": 338,
     "metadata": {},
     "output_type": "execute_result"
    }
   ],
   "source": [
    "cur.execute(\"SELECT * FROM users\")\n",
    "rows = cur.fetchall()\n",
    "df = pd.DataFrame(rows)\n",
    "df"
   ]
  },
  {
   "cell_type": "code",
   "execution_count": 339,
   "id": "6fe972c4",
   "metadata": {},
   "outputs": [
    {
     "data": {
      "text/html": [
       "<div>\n",
       "<style scoped>\n",
       "    .dataframe tbody tr th:only-of-type {\n",
       "        vertical-align: middle;\n",
       "    }\n",
       "\n",
       "    .dataframe tbody tr th {\n",
       "        vertical-align: top;\n",
       "    }\n",
       "\n",
       "    .dataframe thead th {\n",
       "        text-align: right;\n",
       "    }\n",
       "</style>\n",
       "<table border=\"1\" class=\"dataframe\">\n",
       "  <thead>\n",
       "    <tr style=\"text-align: right;\">\n",
       "      <th></th>\n",
       "      <th>0</th>\n",
       "      <th>1</th>\n",
       "      <th>2</th>\n",
       "      <th>3</th>\n",
       "    </tr>\n",
       "  </thead>\n",
       "  <tbody>\n",
       "    <tr>\n",
       "      <th>0</th>\n",
       "      <td>1053191606694117377</td>\n",
       "      <td>Alice</td>\n",
       "      <td>35</td>\n",
       "      <td>us-east</td>\n",
       "    </tr>\n",
       "  </tbody>\n",
       "</table>\n",
       "</div>"
      ],
      "text/plain": [
       "                     0      1   2        3\n",
       "0  1053191606694117377  Alice  35  us-east"
      ]
     },
     "execution_count": 339,
     "metadata": {},
     "output_type": "execute_result"
    }
   ],
   "source": [
    "cur.execute(\"SELECT * FROM users\")\n",
    "rows = cur.fetchall()\n",
    "df = pd.DataFrame(rows)\n",
    "df"
   ]
  },
  {
   "cell_type": "code",
   "execution_count": 340,
   "id": "b2232fe1",
   "metadata": {},
   "outputs": [
    {
     "name": "stdout",
     "output_type": "stream",
     "text": [
      "Alice deleted successfully!\n"
     ]
    }
   ],
   "source": [
    "cur.execute(\"DELETE FROM users WHERE name = %s\", (\"Alice\",))\n",
    "conn.commit()\n",
    "print(\"Alice deleted successfully!\")\n"
   ]
  },
  {
   "cell_type": "code",
   "execution_count": 341,
   "id": "6fd35e3d",
   "metadata": {},
   "outputs": [
    {
     "data": {
      "text/html": [
       "<div>\n",
       "<style scoped>\n",
       "    .dataframe tbody tr th:only-of-type {\n",
       "        vertical-align: middle;\n",
       "    }\n",
       "\n",
       "    .dataframe tbody tr th {\n",
       "        vertical-align: top;\n",
       "    }\n",
       "\n",
       "    .dataframe thead th {\n",
       "        text-align: right;\n",
       "    }\n",
       "</style>\n",
       "<table border=\"1\" class=\"dataframe\">\n",
       "  <thead>\n",
       "    <tr style=\"text-align: right;\">\n",
       "      <th></th>\n",
       "      <th>id</th>\n",
       "      <th>name</th>\n",
       "      <th>age</th>\n",
       "      <th>region</th>\n",
       "    </tr>\n",
       "  </thead>\n",
       "  <tbody>\n",
       "  </tbody>\n",
       "</table>\n",
       "</div>"
      ],
      "text/plain": [
       "Empty DataFrame\n",
       "Columns: [id, name, age, region]\n",
       "Index: []"
      ]
     },
     "execution_count": 341,
     "metadata": {},
     "output_type": "execute_result"
    }
   ],
   "source": [
    "cur.execute(\"SELECT * FROM users\")\n",
    "rows = cur.fetchall()\n",
    "df = pd.DataFrame(rows, columns=[\"id\", \"name\", \"age\",\"region\"])\n",
    "df"
   ]
  },
  {
   "cell_type": "code",
   "execution_count": 342,
   "id": "a5a738bb",
   "metadata": {},
   "outputs": [
    {
     "name": "stdout",
     "output_type": "stream",
     "text": [
      "Logs table created!\n"
     ]
    }
   ],
   "source": [
    "cur.execute(\"\"\"\n",
    "CREATE TABLE IF NOT EXISTS logs (\n",
    "    id SERIAL PRIMARY KEY,\n",
    "    event STRING,\n",
    "    user_id INT REFERENCES users(id),\n",
    "    timestamp TIMESTAMP DEFAULT now()\n",
    ");\n",
    "\"\"\")\n",
    "conn.commit()\n",
    "print(\"Logs table created!\")\n"
   ]
  },
  {
   "cell_type": "code",
   "execution_count": 344,
   "id": "93cfdc37",
   "metadata": {},
   "outputs": [
    {
     "name": "stdout",
     "output_type": "stream",
     "text": [
      "Transaction committed successfully!\n"
     ]
    }
   ],
   "source": [
    "try:\n",
    "    cur.execute(\"BEGIN;\")\n",
    "    cur.execute(\"INSERT INTO users (name, age) VALUES ('Alice', 30) RETURNING id;\")\n",
    "    user_id = cur.fetchone()[0]\n",
    "    cur.execute(\"INSERT INTO logs (event, user_id) VALUES ('User Created', %s);\", (user_id,))\n",
    "    cur.execute(\"COMMIT;\")\n",
    "    print(\"Transaction committed successfully!\")\n",
    "except Exception as e:\n",
    "    cur.execute(\"ROLLBACK;\")\n",
    "    print(f\"Transaction failed: {e}\")\n"
   ]
  },
  {
   "cell_type": "code",
   "execution_count": 345,
   "id": "fe667203",
   "metadata": {},
   "outputs": [
    {
     "data": {
      "text/html": [
       "<div>\n",
       "<style scoped>\n",
       "    .dataframe tbody tr th:only-of-type {\n",
       "        vertical-align: middle;\n",
       "    }\n",
       "\n",
       "    .dataframe tbody tr th {\n",
       "        vertical-align: top;\n",
       "    }\n",
       "\n",
       "    .dataframe thead th {\n",
       "        text-align: right;\n",
       "    }\n",
       "</style>\n",
       "<table border=\"1\" class=\"dataframe\">\n",
       "  <thead>\n",
       "    <tr style=\"text-align: right;\">\n",
       "      <th></th>\n",
       "      <th>0</th>\n",
       "      <th>1</th>\n",
       "      <th>2</th>\n",
       "      <th>3</th>\n",
       "    </tr>\n",
       "  </thead>\n",
       "  <tbody>\n",
       "    <tr>\n",
       "      <th>0</th>\n",
       "      <td>1053191718092406785</td>\n",
       "      <td>User Created</td>\n",
       "      <td>1053191718076743681</td>\n",
       "      <td>2025-03-09 00:10:05.368569</td>\n",
       "    </tr>\n",
       "  </tbody>\n",
       "</table>\n",
       "</div>"
      ],
      "text/plain": [
       "                     0             1                    2  \\\n",
       "0  1053191718092406785  User Created  1053191718076743681   \n",
       "\n",
       "                           3  \n",
       "0 2025-03-09 00:10:05.368569  "
      ]
     },
     "execution_count": 345,
     "metadata": {},
     "output_type": "execute_result"
    }
   ],
   "source": [
    "cur.execute(\"SELECT * FROM logs\")\n",
    "rows = cur.fetchall()\n",
    "df = pd.DataFrame(rows)\n",
    "df"
   ]
  },
  {
   "cell_type": "code",
   "execution_count": 346,
   "id": "47b4d9a9",
   "metadata": {},
   "outputs": [
    {
     "data": {
      "text/html": [
       "<div>\n",
       "<style scoped>\n",
       "    .dataframe tbody tr th:only-of-type {\n",
       "        vertical-align: middle;\n",
       "    }\n",
       "\n",
       "    .dataframe tbody tr th {\n",
       "        vertical-align: top;\n",
       "    }\n",
       "\n",
       "    .dataframe thead th {\n",
       "        text-align: right;\n",
       "    }\n",
       "</style>\n",
       "<table border=\"1\" class=\"dataframe\">\n",
       "  <thead>\n",
       "    <tr style=\"text-align: right;\">\n",
       "      <th></th>\n",
       "      <th>id</th>\n",
       "      <th>name</th>\n",
       "      <th>age</th>\n",
       "      <th>region</th>\n",
       "    </tr>\n",
       "  </thead>\n",
       "  <tbody>\n",
       "    <tr>\n",
       "      <th>0</th>\n",
       "      <td>1053191718076743681</td>\n",
       "      <td>Alice</td>\n",
       "      <td>30</td>\n",
       "      <td>us-east</td>\n",
       "    </tr>\n",
       "  </tbody>\n",
       "</table>\n",
       "</div>"
      ],
      "text/plain": [
       "                    id   name  age   region\n",
       "0  1053191718076743681  Alice   30  us-east"
      ]
     },
     "execution_count": 346,
     "metadata": {},
     "output_type": "execute_result"
    }
   ],
   "source": [
    "cur.execute(\"SELECT * FROM users AS OF SYSTEM TIME '-5s';\")  # Read slightly old data\n",
    "rows = cur.fetchall()\n",
    "df = pd.DataFrame(rows, columns=[\"id\", \"name\", \"age\",\"region\"])\n",
    "df\n"
   ]
  },
  {
   "cell_type": "code",
   "execution_count": 347,
   "id": "5b239521",
   "metadata": {},
   "outputs": [
    {
     "name": "stdout",
     "output_type": "stream",
     "text": [
      "Metadata column added!\n"
     ]
    }
   ],
   "source": [
    "cur.execute(\"ALTER TABLE users ADD COLUMN metadata JSONB;\")\n",
    "conn.commit()\n",
    "print(\"Metadata column added!\")"
   ]
  },
  {
   "cell_type": "code",
   "execution_count": 348,
   "id": "2da9bd03",
   "metadata": {},
   "outputs": [
    {
     "name": "stdout",
     "output_type": "stream",
     "text": [
      "Bob inserted successfully!\n"
     ]
    }
   ],
   "source": [
    "cur.execute(\"\"\"\n",
    "INSERT INTO users (name, age, metadata) \n",
    "VALUES ('Bob', 28, '{\"city\": \"New York\", \"hobbies\": [\"chess\", \"coding\"]}');\n",
    "\"\"\")\n",
    "conn.commit()\n",
    "print(\"Bob inserted successfully!\")"
   ]
  },
  {
   "cell_type": "code",
   "execution_count": 349,
   "id": "43567a73",
   "metadata": {},
   "outputs": [
    {
     "data": {
      "text/html": [
       "<div>\n",
       "<style scoped>\n",
       "    .dataframe tbody tr th:only-of-type {\n",
       "        vertical-align: middle;\n",
       "    }\n",
       "\n",
       "    .dataframe tbody tr th {\n",
       "        vertical-align: top;\n",
       "    }\n",
       "\n",
       "    .dataframe thead th {\n",
       "        text-align: right;\n",
       "    }\n",
       "</style>\n",
       "<table border=\"1\" class=\"dataframe\">\n",
       "  <thead>\n",
       "    <tr style=\"text-align: right;\">\n",
       "      <th></th>\n",
       "      <th>name</th>\n",
       "      <th>city</th>\n",
       "    </tr>\n",
       "  </thead>\n",
       "  <tbody>\n",
       "    <tr>\n",
       "      <th>0</th>\n",
       "      <td>Alice</td>\n",
       "      <td>None</td>\n",
       "    </tr>\n",
       "    <tr>\n",
       "      <th>1</th>\n",
       "      <td>Bob</td>\n",
       "      <td>New York</td>\n",
       "    </tr>\n",
       "  </tbody>\n",
       "</table>\n",
       "</div>"
      ],
      "text/plain": [
       "    name      city\n",
       "0  Alice      None\n",
       "1    Bob  New York"
      ]
     },
     "execution_count": 349,
     "metadata": {},
     "output_type": "execute_result"
    }
   ],
   "source": [
    "cur.execute(\"SELECT name, metadata->>'city' FROM users;\")\n",
    "rows = cur.fetchall()\n",
    "df = pd.DataFrame(rows, columns=[\"name\", \"city\"])\n",
    "df\n"
   ]
  },
  {
   "cell_type": "code",
   "execution_count": 350,
   "id": "e7679655",
   "metadata": {},
   "outputs": [
    {
     "name": "stdout",
     "output_type": "stream",
     "text": [
      "admin\n"
     ]
    }
   ],
   "source": [
    "cur.execute(\"SELECT current_user;\")\n",
    "print(cur.fetchone()[0])\n"
   ]
  },
  {
   "cell_type": "code",
   "execution_count": 351,
   "id": "8a68b764",
   "metadata": {},
   "outputs": [
    {
     "name": "stdout",
     "output_type": "stream",
     "text": [
      "[('bigdata_db', 'root', None, None, [], None), ('defaultdb', 'root', None, None, [], None), ('postgres', 'root', None, None, [], None), ('system', 'node', None, None, [], None)]\n"
     ]
    }
   ],
   "source": [
    "cur.execute(\"SHOW DATABASES;\")\n",
    "rows = cur.fetchall()\n",
    "print(rows)\n"
   ]
  },
  {
   "cell_type": "code",
   "execution_count": 352,
   "id": "7d98c248",
   "metadata": {},
   "outputs": [
    {
     "name": "stdout",
     "output_type": "stream",
     "text": [
      "[('public', 'logs', 'table', 'admin', 0, None), ('public', 'users', 'table', 'admin', 1, None)]\n"
     ]
    }
   ],
   "source": [
    "cur.execute(\"SHOW TABLES;\")\n",
    "rows = cur.fetchall()\n",
    "print(rows)\n"
   ]
  },
  {
   "cell_type": "code",
   "execution_count": 353,
   "id": "ee5aac70",
   "metadata": {},
   "outputs": [
    {
     "name": "stdout",
     "output_type": "stream",
     "text": [
      "[('id', 'INT8', False, 'unique_rowid()', '', ['users_pkey'], False), ('name', 'STRING', True, None, '', ['users_pkey'], False), ('age', 'INT8', True, None, '', ['users_pkey'], False), ('region', 'STRING', True, \"'us-east'\", '', ['users_pkey'], False), ('metadata', 'JSONB', True, None, '', ['users_pkey'], False)]\n"
     ]
    }
   ],
   "source": [
    "cur.execute(\"SHOW COLUMNS FROM users;\")\n",
    "rows = cur.fetchall()\n",
    "print(rows)\n"
   ]
  },
  {
   "cell_type": "code",
   "execution_count": 354,
   "id": "7e1961d1",
   "metadata": {},
   "outputs": [
    {
     "name": "stdout",
     "output_type": "stream",
     "text": [
      "[('8c97ebcd-935c-4837-90fe-1f86c6fe537b', 1, '182af648fa44cb780000000000000001', datetime.datetime(2025, 3, 8, 23, 15, 3, 48943), '\"sql txn\" meta={id=8c97ebcd key=/Min iso=Serializable pri=0.03663325 epo=0 ts=1741475703.299853264,0 min=1741475703.299853264,0 seq=0} lock=false stat=PENDING rts=1741475703.299853264,0 wto=false gul=1741475703.799853264,0', '', 1, 0, 0, '', 'SERIALIZABLE', 'normal', 'regular'), ('fef3fe69-bf1d-4ae3-a6f4-6481dfbc0207', 1, '182af9e147c81dae0000000000000001', datetime.datetime(2025, 3, 9, 0, 9, 17, 478192), '\"sql txn\" meta={id=fef3fe69 key=/Min iso=Serializable pri=0.00475058 epo=0 ts=1741478957.486770894,0 min=1741478957.486770894,0 seq=0} lock=false stat=PENDING rts=1741478957.486770894,0 wto=false gul=1741478957.986770894,0', '', 1, 0, 0, '', 'SERIALIZABLE', 'normal', 'regular'), ('f687c0ae-2629-46c9-ae75-e3557a8c9066', 1, '182af9e4af59c4f40000000000000001', datetime.datetime(2025, 3, 9, 0, 10, 37, 17562), '\"sql txn\" meta={id=f687c0ae key=/Min iso=Serializable pri=0.04261853 epo=0 ts=1741479037.020732016,0 min=1741479037.020732016,0 seq=0} lock=false stat=PENDING rts=1741479037.020732016,0 wto=false gul=1741479037.520732016,0', '', 6, 0, 0, '', 'SERIALIZABLE', 'normal', 'regular')]\n"
     ]
    }
   ],
   "source": [
    "cur.execute(\"SELECT * FROM crdb_internal.node_transactions;\")\n",
    "rows = cur.fetchall()\n",
    "print(rows)\n"
   ]
  },
  {
   "cell_type": "code",
   "execution_count": 355,
   "id": "e22baaa2",
   "metadata": {},
   "outputs": [
    {
     "name": "stdout",
     "output_type": "stream",
     "text": [
      "[(120, 2, 6, datetime.datetime(2025, 3, 9, 0, 10, 37, 22382, tzinfo=datetime.timezone.utc)), (121, 1, 1, datetime.datetime(2025, 3, 9, 0, 10, 8, 860660, tzinfo=datetime.timezone.utc))]\n"
     ]
    }
   ],
   "source": [
    "cur.execute(\"SELECT * FROM crdb_internal.index_usage_statistics;\")\n",
    "rows = cur.fetchall()\n",
    "print(rows)\n"
   ]
  },
  {
   "cell_type": "code",
   "execution_count": 356,
   "id": "43f9b619",
   "metadata": {},
   "outputs": [
    {
     "name": "stdout",
     "output_type": "stream",
     "text": [
      "Total users: 2\n"
     ]
    }
   ],
   "source": [
    "cur.execute(\"SELECT COUNT(*) FROM users;\")\n",
    "rows = cur.fetchall()\n",
    "print(\"Total users:\", rows[0][0])\n"
   ]
  },
  {
   "cell_type": "code",
   "execution_count": 357,
   "id": "5d31987f",
   "metadata": {},
   "outputs": [
    {
     "name": "stdout",
     "output_type": "stream",
     "text": [
      "Youngest age: 28 Oldest age: 30\n"
     ]
    }
   ],
   "source": [
    "cur.execute(\"SELECT MIN(age), MAX(age) FROM users;\")\n",
    "rows = cur.fetchall()\n",
    "print(\"Youngest age:\", rows[0][0], \"Oldest age:\", rows[0][1])\n"
   ]
  },
  {
   "cell_type": "code",
   "execution_count": 358,
   "id": "34663d03",
   "metadata": {},
   "outputs": [
    {
     "name": "stdout",
     "output_type": "stream",
     "text": [
      "[(28, 1), (30, 1)]\n"
     ]
    }
   ],
   "source": [
    "cur.execute(\"SELECT age, COUNT(*) FROM users GROUP BY age ORDER BY age;\")\n",
    "rows = cur.fetchall()\n",
    "print(rows)\n"
   ]
  },
  {
   "cell_type": "code",
   "execution_count": 318,
   "id": "81566641",
   "metadata": {},
   "outputs": [
    {
     "name": "stdout",
     "output_type": "stream",
     "text": [
      "Transaction rolled back successfully!\n"
     ]
    }
   ],
   "source": [
    "try:\n",
    "    cur.execute(\"BEGIN;\")\n",
    "    cur.execute(\"INSERT INTO users (name, age) VALUES ('Test User', 99);\")\n",
    "    cur.execute(\"ROLLBACK;\")  # This prevents the data from actually being inserted\n",
    "    print(\"Transaction rolled back successfully!\")\n",
    "except Exception as e:\n",
    "    print(f\"Transaction failed: {e}\")\n"
   ]
  },
  {
   "cell_type": "code",
   "execution_count": 320,
   "id": "4fdb9098",
   "metadata": {},
   "outputs": [
    {
     "name": "stdout",
     "output_type": "stream",
     "text": [
      "[('182af8593624c9d00000000000000001', '3cf3ecf7-f556-4f56-b773-18e34effa389', 1, '182af7f823e98a540000000000000001', 'admin', datetime.datetime(2025, 3, 8, 23, 41, 7, 976143, tzinfo=datetime.timezone.utc), 'SELECT * FROM crdb_internal.cluster_queries', '172.17.0.1:59308', '', False, 'executing', False, 'AgHa////nxkAAP7/AQAAAAYc', 'defaultdb')]\n"
     ]
    }
   ],
   "source": [
    "cur.execute(\"SELECT * FROM crdb_internal.cluster_queries;\")\n",
    "rows = cur.fetchall()\n",
    "print(rows)\n",
    "\n"
   ]
  },
  {
   "cell_type": "code",
   "execution_count": 359,
   "id": "eaeef866",
   "metadata": {},
   "outputs": [
    {
     "name": "stdout",
     "output_type": "stream",
     "text": [
      "Index on user_id created successfully!\n"
     ]
    }
   ],
   "source": [
    "cur.execute(\"\"\"\n",
    "CREATE INDEX IF NOT EXISTS idx_logs_user_id \n",
    "ON logs (user_id);\n",
    "\"\"\")\n",
    "conn.commit()\n",
    "print(\"Index on user_id created successfully!\")\n"
   ]
  },
  {
   "cell_type": "code",
   "execution_count": 364,
   "id": "ab4c39a7",
   "metadata": {},
   "outputs": [
    {
     "name": "stdout",
     "output_type": "stream",
     "text": [
      "[]\n"
     ]
    }
   ],
   "source": [
    "cur.execute(\"SELECT * FROM logs WHERE user_id = 1;\")\n",
    "rows = cur.fetchall()\n",
    "print(rows)\n"
   ]
  },
  {
   "cell_type": "code",
   "execution_count": 365,
   "id": "73a65b73",
   "metadata": {},
   "outputs": [
    {
     "name": "stdout",
     "output_type": "stream",
     "text": [
      "Index on timestamp created successfully!\n"
     ]
    }
   ],
   "source": [
    "cur.execute(\"\"\"\n",
    "CREATE INDEX IF NOT EXISTS idx_logs_timestamp \n",
    "ON logs (timestamp DESC);\n",
    "\"\"\")\n",
    "conn.commit()\n",
    "print(\"Index on timestamp created successfully!\")\n"
   ]
  },
  {
   "cell_type": "code",
   "execution_count": 366,
   "id": "cd0c8946",
   "metadata": {},
   "outputs": [
    {
     "name": "stdout",
     "output_type": "stream",
     "text": [
      "[(1053191718092406785, 'User Created', 1053191718076743681, datetime.datetime(2025, 3, 9, 0, 10, 5, 368569))]\n"
     ]
    }
   ],
   "source": [
    "cur.execute(\"SELECT * FROM logs WHERE timestamp > now() - INTERVAL '1 day';\")\n",
    "rows = cur.fetchall()\n",
    "print(rows)\n"
   ]
  },
  {
   "cell_type": "code",
   "execution_count": 2,
   "id": "d7960363",
   "metadata": {},
   "outputs": [
    {
     "name": "stdout",
     "output_type": "stream",
     "text": [
      "tables dropped successfully!\n"
     ]
    }
   ],
   "source": [
    "cur.execute(\"DROP TABLE logs ;\")\n",
    "cur.execute(\"DROP TABLE users ;\")\n",
    "conn.commit()\n",
    "print(\"tables dropped successfully!\")\n"
   ]
  },
  {
   "cell_type": "code",
   "execution_count": null,
   "id": "b8b237e5",
   "metadata": {},
   "outputs": [],
   "source": []
  },
  {
   "cell_type": "code",
   "execution_count": 321,
   "id": "1a825ae9",
   "metadata": {},
   "outputs": [
    {
     "name": "stdout",
     "output_type": "stream",
     "text": [
      "Transaction rolled back. You can now execute new commands.\n"
     ]
    }
   ],
   "source": [
    "conn.rollback()\n",
    "print(\"Transaction rolled back. You can now execute new commands.\")"
   ]
  },
  {
   "cell_type": "code",
   "execution_count": 3,
   "id": "adf66065",
   "metadata": {},
   "outputs": [
    {
     "name": "stdout",
     "output_type": "stream",
     "text": [
      "Connection closed.\n"
     ]
    }
   ],
   "source": [
    "cur.close()\n",
    "conn.close()\n",
    "print(\"Connection closed.\")"
   ]
  }
 ],
 "metadata": {
  "kernelspec": {
   "display_name": ".venv",
   "language": "python",
   "name": "python3"
  },
  "language_info": {
   "codemirror_mode": {
    "name": "ipython",
    "version": 3
   },
   "file_extension": ".py",
   "mimetype": "text/x-python",
   "name": "python",
   "nbconvert_exporter": "python",
   "pygments_lexer": "ipython3",
   "version": "3.11.4"
  }
 },
 "nbformat": 4,
 "nbformat_minor": 5
}
